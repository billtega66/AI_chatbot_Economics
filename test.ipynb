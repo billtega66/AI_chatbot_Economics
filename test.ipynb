{
 "cells": [
  {
   "cell_type": "code",
   "execution_count": 20,
   "metadata": {},
   "outputs": [
    {
     "name": "stdout",
     "output_type": "stream",
     "text": [
      "Defaulting to user installation because normal site-packages is not writeable\n",
      "Collecting vllm\n",
      "  Using cached vllm-0.6.6.post1.tar.gz (4.9 MB)\n",
      "  Installing build dependencies: started\n",
      "  Installing build dependencies: finished with status 'error'\n",
      "Note: you may need to restart the kernel to use updated packages.\n"
     ]
    },
    {
     "name": "stderr",
     "output_type": "stream",
     "text": [
      "  error: subprocess-exited-with-error\n",
      "  \n",
      "  × pip subprocess to install build dependencies did not run successfully.\n",
      "  │ exit code: 1\n",
      "  ╰─> [12 lines of output]\n",
      "      Collecting cmake>=3.26\n",
      "        Using cached cmake-3.31.4-py3-none-win_amd64.whl.metadata (6.5 kB)\n",
      "      Collecting ninja\n",
      "        Using cached ninja-1.11.1.3-py3-none-win_amd64.whl.metadata (5.3 kB)\n",
      "      Collecting packaging\n",
      "        Using cached packaging-24.2-py3-none-any.whl.metadata (3.2 kB)\n",
      "      Collecting setuptools>=61\n",
      "        Using cached setuptools-75.8.0-py3-none-any.whl.metadata (6.7 kB)\n",
      "      Collecting setuptools-scm>=8.0\n",
      "        Using cached setuptools_scm-8.1.0-py3-none-any.whl.metadata (6.6 kB)\n",
      "      ERROR: Could not find a version that satisfies the requirement torch==2.5.1 (from versions: none)\n",
      "      ERROR: No matching distribution found for torch==2.5.1\n",
      "      [end of output]\n",
      "  \n",
      "  note: This error originates from a subprocess, and is likely not a problem with pip.\n",
      "error: subprocess-exited-with-error\n",
      "\n",
      "× pip subprocess to install build dependencies did not run successfully.\n",
      "│ exit code: 1\n",
      "╰─> See above for output.\n",
      "\n",
      "note: This error originates from a subprocess, and is likely not a problem with pip.\n"
     ]
    },
    {
     "name": "stdout",
     "output_type": "stream",
     "text": [
      "Defaulting to user installation because normal site-packages is not writeable\n",
      "Collecting vllm\n",
      "  Using cached vllm-0.6.6.post1.tar.gz (4.9 MB)\n",
      "  Installing build dependencies: started\n",
      "  Installing build dependencies: finished with status 'error'\n",
      "Note: you may need to restart the kernel to use updated packages.\n"
     ]
    },
    {
     "name": "stderr",
     "output_type": "stream",
     "text": [
      "  error: subprocess-exited-with-error\n",
      "  \n",
      "  × pip subprocess to install build dependencies did not run successfully.\n",
      "  │ exit code: 1\n",
      "  ╰─> [12 lines of output]\n",
      "      Collecting cmake>=3.26\n",
      "        Using cached cmake-3.31.4-py3-none-win_amd64.whl.metadata (6.5 kB)\n",
      "      Collecting ninja\n",
      "        Using cached ninja-1.11.1.3-py3-none-win_amd64.whl.metadata (5.3 kB)\n",
      "      Collecting packaging\n",
      "        Using cached packaging-24.2-py3-none-any.whl.metadata (3.2 kB)\n",
      "      Collecting setuptools>=61\n",
      "        Using cached setuptools-75.8.0-py3-none-any.whl.metadata (6.7 kB)\n",
      "      Collecting setuptools-scm>=8.0\n",
      "        Using cached setuptools_scm-8.1.0-py3-none-any.whl.metadata (6.6 kB)\n",
      "      ERROR: Could not find a version that satisfies the requirement torch==2.5.1 (from versions: none)\n",
      "      ERROR: No matching distribution found for torch==2.5.1\n",
      "      [end of output]\n",
      "  \n",
      "  note: This error originates from a subprocess, and is likely not a problem with pip.\n",
      "error: subprocess-exited-with-error\n",
      "\n",
      "× pip subprocess to install build dependencies did not run successfully.\n",
      "│ exit code: 1\n",
      "╰─> See above for output.\n",
      "\n",
      "note: This error originates from a subprocess, and is likely not a problem with pip.\n"
     ]
    }
   ],
   "source": [
    "%pip install vllm transformers accelerate\n",
    "%pip install vllm\n",
    "\n"
   ]
  },
  {
   "cell_type": "code",
   "execution_count": 22,
   "metadata": {},
   "outputs": [
    {
     "ename": "ModuleNotFoundError",
     "evalue": "No module named 'vllm'",
     "output_type": "error",
     "traceback": [
      "\u001b[1;31m---------------------------------------------------------------------------\u001b[0m",
      "\u001b[1;31mModuleNotFoundError\u001b[0m                       Traceback (most recent call last)",
      "Cell \u001b[1;32mIn[22], line 1\u001b[0m\n\u001b[1;32m----> 1\u001b[0m \u001b[38;5;28;01mfrom\u001b[39;00m\u001b[38;5;250m \u001b[39m\u001b[38;5;21;01mvllm\u001b[39;00m\u001b[38;5;250m \u001b[39m\u001b[38;5;28;01mimport\u001b[39;00m LLM, SamplingParams\n\u001b[0;32m      3\u001b[0m \u001b[38;5;66;03m# Load the LLaMA 3.3 70B Instruct model\u001b[39;00m\n\u001b[0;32m      4\u001b[0m llm \u001b[38;5;241m=\u001b[39m LLM(\u001b[38;5;124m\"\u001b[39m\u001b[38;5;124mmeta-llama/Llama-3.3-70B-Instruct\u001b[39m\u001b[38;5;124m\"\u001b[39m)\n",
      "\u001b[1;31mModuleNotFoundError\u001b[0m: No module named 'vllm'"
     ]
    }
   ],
   "source": [
    "from vllm import LLM, SamplingParams\n",
    "\n",
    "# Load the LLaMA 3.3 70B Instruct model\n",
    "llm = LLM(\"meta-llama/Llama-3.3-70B-Instruct\")\n",
    "\n",
    "# Define the prompt\n",
    "prompt = \"Write a short story about a brave knight and a dragon.\"\n",
    "\n",
    "# Sampling parameters for generation\n",
    "sampling_params = SamplingParams(\n",
    "    temperature=0.7,\n",
    "    max_tokens=100,\n",
    "    top_p=0.9\n",
    ")\n",
    "\n",
    "# Generate text\n",
    "outputs = llm.generate(prompt, sampling_params)\n",
    "\n",
    "# Print the output\n",
    "for output in outputs:\n",
    "    print(output.text)\n"
   ]
  }
 ],
 "metadata": {
  "kernelspec": {
   "display_name": "Python 3",
   "language": "python",
   "name": "python3"
  },
  "language_info": {
   "codemirror_mode": {
    "name": "ipython",
    "version": 3
   },
   "file_extension": ".py",
   "mimetype": "text/x-python",
   "name": "python",
   "nbconvert_exporter": "python",
   "pygments_lexer": "ipython3",
   "version": "3.13.1"
  }
 },
 "nbformat": 4,
 "nbformat_minor": 2
}
